{
 "cells": [
  {
   "cell_type": "code",
   "execution_count": 8,
   "id": "b0a54fe0",
   "metadata": {},
   "outputs": [],
   "source": [
    "import json\n",
    "import jsonlines\n",
    "import glob"
   ]
  },
  {
   "cell_type": "code",
   "execution_count": 5,
   "id": "a0e6c2fa",
   "metadata": {},
   "outputs": [],
   "source": [
    "file1 = open('81.json')\n",
    "file2 = open('82.json')\n",
    "data1 = json.load(file1)\n",
    "data2 = json.load(file2)\n",
    "add_list=[]\n"
   ]
  },
  {
   "cell_type": "code",
   "execution_count": 6,
   "id": "7f8925ec",
   "metadata": {},
   "outputs": [
    {
     "data": {
      "text/plain": [
       "[]"
      ]
     },
     "execution_count": 6,
     "metadata": {},
     "output_type": "execute_result"
    }
   ],
   "source": [
    "add_list"
   ]
  },
  {
   "cell_type": "code",
   "execution_count": 7,
   "id": "8c4db52f",
   "metadata": {},
   "outputs": [
    {
     "data": {
      "text/plain": [
       "{'gt_parse': {'menu': [{'nm': 'Chicken Box', 'cnt': '1', 'price': '10,99'},\n",
       "   {'nm': 'BBQ Honey Dip', 'cnt': '1', 'price': '1,29'},\n",
       "   {'nm': 'Sweet Chili Dip', 'cnt': '1', 'price': '1,29'}],\n",
       "  'sub_total': {'subtotal_price': '12,69'},\n",
       "  'total': {'total_price': '13,57'}},\n",
       " 'meta': {'version': '2.0.0',\n",
       "  'split': 'valid',\n",
       "  'image_id': 81,\n",
       "  'image_size': {'width': 1280, 'height': 880}},\n",
       " 'valid_line': [{'words': [{'quad': {'x1': 128,\n",
       "      'y1': 311,\n",
       "      'x2': 340,\n",
       "      'y2': 311,\n",
       "      'x3': 343,\n",
       "      'y3': 373,\n",
       "      'x4': 185,\n",
       "      'y4': 373},\n",
       "     'is_key': 0,\n",
       "     'row_id': '1',\n",
       "     'text': 'Chicken'}],\n",
       "   'category': 'menu.nm',\n",
       "   'group_id': '1',\n",
       "   'sub_group_id': 0},\n",
       "  {'words': [{'quad': {'x1': 458,\n",
       "      'y1': 316,\n",
       "      'x2': 362,\n",
       "      'y2': 316,\n",
       "      'x3': 362,\n",
       "      'y3': 379,\n",
       "      'x4': 455,\n",
       "      'y4': 376},\n",
       "     'is_key': 0,\n",
       "     'row_id': '1',\n",
       "     'text': 'Box'}],\n",
       "   'category': 'menu.nm',\n",
       "   'group_id': '1',\n",
       "   'sub_group_id': 0},\n",
       "  {'words': [{'quad': {'x1': 133,\n",
       "      'y1': 425,\n",
       "      'x2': 231,\n",
       "      'y2': 428,\n",
       "      'x3': 234,\n",
       "      'y3': 376,\n",
       "      'x4': 136,\n",
       "      'y4': 379},\n",
       "     'is_key': 0,\n",
       "     'row_id': '2',\n",
       "     'text': 'BBQ'}],\n",
       "   'category': 'menu.nm',\n",
       "   'group_id': '2',\n",
       "   'sub_group_id': 0},\n",
       "  {'words': [{'quad': {'x1': 398,\n",
       "      'y1': 439,\n",
       "      'x2': 248,\n",
       "      'y2': 433,\n",
       "      'x3': 242,\n",
       "      'y3': 373,\n",
       "      'x4': 398,\n",
       "      'y4': 381},\n",
       "     'is_key': 0,\n",
       "     'row_id': '2',\n",
       "     'text': 'Honey'}],\n",
       "   'category': 'menu.nm',\n",
       "   'group_id': '2',\n",
       "   'sub_group_id': 0},\n",
       "  {'words': [{'quad': {'x1': 515,\n",
       "      'y1': 376,\n",
       "      'x2': 517,\n",
       "      'y2': 436,\n",
       "      'x3': 417,\n",
       "      'y3': 430,\n",
       "      'x4': 417,\n",
       "      'y4': 379},\n",
       "     'is_key': 0,\n",
       "     'row_id': '2',\n",
       "     'text': 'Dip'}],\n",
       "   'category': 'menu.nm',\n",
       "   'group_id': '2',\n",
       "   'sub_group_id': 0},\n",
       "  {'words': [{'quad': {'x1': 283,\n",
       "      'y1': 499,\n",
       "      'x2': 136,\n",
       "      'y2': 493,\n",
       "      'x3': 131,\n",
       "      'y3': 425,\n",
       "      'x4': 289,\n",
       "      'y4': 433},\n",
       "     'is_key': 0,\n",
       "     'row_id': '3',\n",
       "     'text': 'Sweet'}],\n",
       "   'category': 'menu.nm',\n",
       "   'group_id': '3',\n",
       "   'sub_group_id': 0},\n",
       "  {'words': [{'quad': {'x1': 455,\n",
       "      'y1': 493,\n",
       "      'x2': 305,\n",
       "      'y2': 493,\n",
       "      'x3': 302,\n",
       "      'y3': 428,\n",
       "      'x4': 458,\n",
       "      'y4': 428},\n",
       "     'is_key': 0,\n",
       "     'row_id': '3',\n",
       "     'text': 'Chili'}],\n",
       "   'category': 'menu.nm',\n",
       "   'group_id': '3',\n",
       "   'sub_group_id': 0},\n",
       "  {'words': [{'quad': {'x1': 569,\n",
       "      'y1': 504,\n",
       "      'x2': 477,\n",
       "      'y2': 496,\n",
       "      'x3': 477,\n",
       "      'y3': 425,\n",
       "      'x4': 572,\n",
       "      'y4': 441},\n",
       "     'is_key': 0,\n",
       "     'row_id': '3',\n",
       "     'text': 'Dip'}],\n",
       "   'category': 'menu.nm',\n",
       "   'group_id': '3',\n",
       "   'sub_group_id': 0},\n",
       "  {'words': [{'quad': {'x1': 22,\n",
       "      'y1': 321,\n",
       "      'x2': 57,\n",
       "      'y2': 321,\n",
       "      'x3': 63,\n",
       "      'y3': 373,\n",
       "      'x4': 27,\n",
       "      'y4': 371},\n",
       "     'is_key': 0,\n",
       "     'row_id': '1',\n",
       "     'text': '1'}],\n",
       "   'category': 'menu.cnt',\n",
       "   'group_id': '1',\n",
       "   'sub_group_id': 0},\n",
       "  {'words': [{'quad': {'x1': 989,\n",
       "      'y1': 436,\n",
       "      'x2': 1111,\n",
       "      'y2': 433,\n",
       "      'x3': 1117,\n",
       "      'y3': 379,\n",
       "      'x4': 983,\n",
       "      'y4': 381},\n",
       "     'is_key': 0,\n",
       "     'row_id': '2',\n",
       "     'text': '1,29'}],\n",
       "   'category': 'menu.price',\n",
       "   'group_id': '2',\n",
       "   'sub_group_id': 0},\n",
       "  {'words': [{'quad': {'x1': 180,\n",
       "      'y1': 594,\n",
       "      'x2': 25,\n",
       "      'y2': 597,\n",
       "      'x3': 25,\n",
       "      'y3': 534,\n",
       "      'x4': 180,\n",
       "      'y4': 539},\n",
       "     'is_key': 0,\n",
       "     'row_id': '4',\n",
       "     'text': 'Netto'}],\n",
       "   'category': 'subtotal.subtotal_price',\n",
       "   'group_id': '4',\n",
       "   'sub_group_id': 0},\n",
       "  {'words': [{'quad': {'x1': 202,\n",
       "      'y1': 665,\n",
       "      'x2': 22,\n",
       "      'y2': 665,\n",
       "      'x3': 25,\n",
       "      'y3': 597,\n",
       "      'x4': 202,\n",
       "      'y4': 597},\n",
       "     'is_key': 0,\n",
       "     'row_id': '5',\n",
       "     'text': 'Gesamt'}],\n",
       "   'category': 'total.total_price',\n",
       "   'group_id': '5',\n",
       "   'sub_group_id': 0}],\n",
       " 'ROI': {'x1': 0,\n",
       "  'y1': 0,\n",
       "  'x2': 1280,\n",
       "  'y2': 0,\n",
       "  'x3': 1280,\n",
       "  'y3': 880,\n",
       "  'x4': 0,\n",
       "  'y4': 880}}"
      ]
     },
     "execution_count": 7,
     "metadata": {},
     "output_type": "execute_result"
    }
   ],
   "source": [
    "dictionary = {'file_name': , \"ground_truth\":}\n"
   ]
  },
  {
   "cell_type": "code",
   "execution_count": 21,
   "id": "e4555217",
   "metadata": {},
   "outputs": [
    {
     "name": "stdout",
     "output_type": "stream",
     "text": [
      "81.json\n",
      "82.json\n",
      "83.json\n",
      "84.json\n",
      "85.json\n",
      "86.json\n",
      "87.json\n",
      "88.json\n",
      "89.json\n",
      "90.json\n"
     ]
    }
   ],
   "source": [
    "dir_list = glob.glob(\"*.json\")\n",
    "add_list=[]\n",
    "for i in dir_list:\n",
    "    print(i)\n",
    "    f_name = i.replace('json','jpg')\n",
    "    file = open(i)\n",
    "    data = json.load(file)\n",
    "    \n",
    "    dictionary = {'file_name':f_name , \"ground_truth\":json.dumps(data)}\n",
    "    add_list.append(dictionary)\n",
    "    file.close()\n",
    "with jsonlines.open('metadata.jsonl', mode='w') as writer:\n",
    "    writer.write_all(add_list)\n"
   ]
  },
  {
   "cell_type": "code",
   "execution_count": 12,
   "id": "e72b1aaf",
   "metadata": {},
   "outputs": [
    {
     "data": {
      "text/plain": [
       "'81.jpg'"
      ]
     },
     "execution_count": 12,
     "metadata": {},
     "output_type": "execute_result"
    }
   ],
   "source": [
    "f = dir_list[0].replace('json','jpg')\n",
    "f"
   ]
  },
  {
   "cell_type": "code",
   "execution_count": null,
   "id": "3bd1da47",
   "metadata": {},
   "outputs": [],
   "source": []
  }
 ],
 "metadata": {
  "kernelspec": {
   "display_name": "Python 3 (ipykernel)",
   "language": "python",
   "name": "python3"
  },
  "language_info": {
   "codemirror_mode": {
    "name": "ipython",
    "version": 3
   },
   "file_extension": ".py",
   "mimetype": "text/x-python",
   "name": "python",
   "nbconvert_exporter": "python",
   "pygments_lexer": "ipython3",
   "version": "3.9.6"
  }
 },
 "nbformat": 4,
 "nbformat_minor": 5
}
